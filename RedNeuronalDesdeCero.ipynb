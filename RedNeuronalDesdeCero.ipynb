{
 "cells": [
  {
   "cell_type": "code",
   "execution_count": 1,
   "metadata": {},
   "outputs": [],
   "source": [
    "import matplotlib.pyplot as plt\n",
    "import numpy as np\n",
    "from sklearn.datasets import make_circles"
   ]
  },
  {
   "cell_type": "markdown",
   "metadata": {},
   "source": [
    "# Dataset"
   ]
  },
  {
   "cell_type": "code",
   "execution_count": 2,
   "metadata": {
    "scrolled": true
   },
   "outputs": [
    {
     "data": {
      "image/png": "[encoded data removed]",
      "text/plain": [
       "<Figure size 432x288 with 1 Axes>"
      ]
     },
     "metadata": {
      "needs_background": "light"
     },
     "output_type": "display_data"
    }
   ],
   "source": [
    "# DATASET\n",
    "n = 10000 # Cantidad de ejemplo\n",
    "p = 2 # Dos neuronas o dos clases\n",
    "X, Y = make_circles(n_samples = n, factor = 0.5, noise = 0.05)\n",
    "plt.scatter(X[Y == 0, 0], X[Y == 0, 1]);\n",
    "plt.scatter(X[Y == 1, 0], X[Y == 1, 1]);\n",
    "plt.axis('equal');"
   ]
  },
  {
   "cell_type": "code",
   "execution_count": 5,
   "metadata": {},
   "outputs": [
    {
     "name": "stdout",
     "output_type": "stream",
     "text": [
      "Dimensiones de X:  (2, 10000)\n",
      "Dimensiones de Y:  (1, 10000)\n"
     ]
    }
   ],
   "source": [
    "X = X.T\n",
    "Y = Y.reshape((1, 10000))\n",
    "shape_X = X.shape\n",
    "shape_Y = Y.shape\n",
    "print(\"Dimensiones de X: \", shape_X)\n",
    "print(\"Dimensiones de Y: \", shape_Y)"
   ]
  },
  {
   "cell_type": "markdown",
   "metadata": {},
   "source": [
    "# Red Neuronal"
   ]
  },
  {
   "cell_type": "code",
   "execution_count": 6,
   "metadata": {},
   "outputs": [
    {
     "data": {
      "text/plain": [
       "(2, 4, 1)"
      ]
     },
     "execution_count": 6,
     "metadata": {},
     "output_type": "execute_result"
    }
   ],
   "source": [
    "\"\"\"\n",
    "n_x: Cantidad de neuronas en la capa de entrada\n",
    "n_h: Cantidad de neuronas en la capa oculta\n",
    "n_y: Cantidad de neuronas en la capa de salida\n",
    "\"\"\"\n",
    "def layer_dims(X, Y):\n",
    "    n_x = shape_X[0]\n",
    "    n_h = 4\n",
    "    n_y = shape_Y[0]\n",
    "    \n",
    "    return n_x, n_h, n_y\n",
    "\n",
    "layer_dims(X, Y)"
   ]
  },
  {
   "cell_type": "markdown",
   "metadata": {},
   "source": [
    "Las funciones de activación serán el Tanh y el Sigmoid, el Tanh lo obtenemos de np.tanh y el Sigmoid crearemos una función."
   ]
  },
  {
   "cell_type": "code",
   "execution_count": 7,
   "metadata": {},
   "outputs": [],
   "source": [
    "def sigmoid(z):\n",
    "    return 1/(1+np.exp(-z))"
   ]
  },
  {
   "cell_type": "markdown",
   "metadata": {},
   "source": [
    "# INICIAR PARÁMETROS\n",
    "\n",
    "Inicializamos los parametros, los pesos en forma aleatorea y los sesgos con zeros"
   ]
  },
  {
   "cell_type": "code",
   "execution_count": 8,
   "metadata": {},
   "outputs": [],
   "source": [
    "def parametros(X, Y):\n",
    "    n_x, n_h, n_y = layer_dims(X, Y)\n",
    "    W1 = np.random.randn(n_h, n_x)*0.01\n",
    "    b1 = np.zeros((n_h, 1))\n",
    "    W2 = np.random.randn(1, n_h)*0.01\n",
    "    b2 = np.zeros((1, 1))\n",
    "    \n",
    "    return W1, b1, W2, b2"
   ]
  },
  {
   "cell_type": "markdown",
   "metadata": {},
   "source": [
    "# FORDWARD"
   ]
  },
  {
   "cell_type": "code",
   "execution_count": 9,
   "metadata": {},
   "outputs": [],
   "source": [
    "def forward(X, W1, b1, W2, b2):\n",
    "    Z1 = np.dot(W1, X) + b1\n",
    "    a1 = np.tanh(Z1)\n",
    "    Z2 = np.dot(W2, a1) + b2\n",
    "    A2 = sigmoid(Z2)\n",
    "    \n",
    "    return Z1, a1, Z2, A2"
   ]
  },
  {
   "cell_type": "code",
   "execution_count": 100,
   "metadata": {},
   "outputs": [],
   "source": [
    "W1, b1, W2, b2 = parametros(X, Y)\n",
    "Z1, a1, Z2, A2 = forward(X, W1, b1, W2, b2)"
   ]
  },
  {
   "cell_type": "markdown",
   "metadata": {},
   "source": [
    "# FUNCIÓN DE COSTO\n",
    "\n",
    "Exercise: Compute the cross-entropy cost $J$, using the following formula: $$-\\frac{1}{m} \\sum\\limits_{i = 1}^{m} (y^{(i)}\\log\\left(a^{[L] (i)}\\right) + (1-y^{(i)})\\log\\left(1- a^{[L](i)}\\right)) \\tag{7}$$"
   ]
  },
  {
   "cell_type": "code",
   "execution_count": 10,
   "metadata": {},
   "outputs": [],
   "source": [
    "def loss(Y, A2):\n",
    "    m = Y.shape[1]\n",
    "    costo = np.multiply(np.log(A2), Y) + np.multiply((1 - Y), np.log(1 - A2))\n",
    "\n",
    "    cost = - np.sum(costo) / m\n",
    "    cost = np.squeeze(cost)\n",
    "    return cost"
   ]
  },
  {
   "cell_type": "markdown",
   "metadata": {},
   "source": [
    "# GRADIENTE"
   ]
  },
  {
   "cell_type": "code",
   "execution_count": 11,
   "metadata": {},
   "outputs": [],
   "source": [
    "def gradient(Y, X, W1, b1, W2, b2):\n",
    "    a0 = X\n",
    "    Z1, a1, Z2, a2 = forward(X, W1, b1, W2, b2)\n",
    "\n",
    "    m = X.shape[1]\n",
    "    \n",
    "    dZ2 = a2 - Y\n",
    "    dW2 = (1/m)*np.dot(dZ2, a1.T)\n",
    "    db2 = (1/m)*np.sum(dZ2, axis = 1, keepdims = True)\n",
    "    dZ1 = np.multiply(np.dot(W2.T, dZ2), 1 - np.power(a1, 2))\n",
    "    dW1 = (1 / m) * np.dot(dZ1, X.T)\n",
    "    db1 = (1 / m) * np.sum(dZ1, axis=1, keepdims=True)\n",
    "      \n",
    "\n",
    "    return dW2, db2, dW1, db1"
   ]
  },
  {
   "cell_type": "markdown",
   "metadata": {},
   "source": [
    "# ACTUALIZACIÓN DE PARÁMETROS"
   ]
  },
  {
   "cell_type": "code",
   "execution_count": 12,
   "metadata": {},
   "outputs": [],
   "source": [
    "def update_param(Y, X, lr,dW2, db2, dW1, db1, W1, b1, W2, b2):\n",
    "    #dW2, db2, dW1, db1 = gradient(Y, X, W1, b1, W2, b2)#gradient(Y, n_x, n_h, n_y)\n",
    "    \n",
    "    W1 = W1 -lr*dW1\n",
    "    b1 = b1 - lr*db1\n",
    "    \n",
    "    W2 = W2 - lr*dW2\n",
    "    b2 = b2 - lr*db2\n",
    "        \n",
    "#     dW2, db2, dW1, db1 = gradient(Y, X, W1, b1, W2, b2)\n",
    "        \n",
    "    return W1, b1, W2, b2"
   ]
  },
  {
   "cell_type": "markdown",
   "metadata": {},
   "source": [
    "# NN FINAL"
   ]
  },
  {
   "cell_type": "code",
   "execution_count": 13,
   "metadata": {},
   "outputs": [],
   "source": [
    "def NN(Y, X, h_neur, n_iteraciones, lr, train = False):\n",
    "    # parametros iniciales\n",
    "    n_x, n_h, n_y = layer_dims(X, Y)\n",
    "    W1, b1, W2, b2 = parametros(X, Y)\n",
    "    \n",
    "    # Epoch\n",
    "    epoch = []\n",
    "    \n",
    "    for i in range(n_iteraciones):\n",
    "        # Forward\n",
    "        Z1, a1, Z2, A2 = forward(X, W1, b1, W2, b2) # retorna Z1, a1, Z2, A2\n",
    "        \n",
    "        # Costo\n",
    "        cost = loss(Y, A2)\n",
    "        \n",
    "        # gradiente\n",
    "        dW2, db2, dW1, db1 = gradient(Y, X, W1, b1, W2, b2)\n",
    "        \n",
    "        # Update\n",
    "        W1, b1, W2, b2 = update_param(Y, X, lr, dW2, db2, dW1, db1, W1, b1, W2, b2)\n",
    "        \n",
    "        zx = np.round(A2)\n",
    "        \n",
    "        Accuaracy = (1 - cost)*100\n",
    "        \n",
    "        epoch.append(cost)\n",
    "        \n",
    "        if i%1000 == 0 and train:\n",
    "            print('Costo: ', cost, 'Accuaracy', Accuaracy)\n",
    "\n",
    "    cache = {'W1': W1,\n",
    "             'b1': b1,\n",
    "             'W2': W2,\n",
    "             'b2': b2,\n",
    "             'A2': A2}\n",
    "    return cache, epoch"
   ]
  },
  {
   "cell_type": "code",
   "execution_count": 14,
   "metadata": {
    "scrolled": false
   },
   "outputs": [
    {
     "name": "stdout",
     "output_type": "stream",
     "text": [
      "Costo:  0.6931472093644516 Accuaracy 30.685279063554837\n",
      "Costo:  0.693146237940199 Accuaracy 30.6853762059801\n",
      "Costo:  0.4668077626251779 Accuaracy 53.31922373748221\n",
      "Costo:  0.8431008754147824 Accuaracy 15.68991245852176\n",
      "Costo:  0.8401009747559274 Accuaracy 15.989902524407263\n",
      "Costo:  0.8385229701374316 Accuaracy 16.14770298625684\n",
      "Costo:  0.8376090675557661 Accuaracy 16.239093244423387\n",
      "Costo:  0.8370372222561606 Accuaracy 16.296277774383938\n",
      "Costo:  0.8366616435072165 Accuaracy 16.33383564927835\n",
      "Costo:  0.8364088548599596 Accuaracy 16.359114514004037\n",
      "Costo:  0.8362403627480497 Accuaracy 16.37596372519503\n",
      "Costo:  0.8361405263342876 Accuaracy 16.38594736657124\n",
      "Costo:  0.8361351553907913 Accuaracy 16.38648446092087\n",
      "Costo:  0.01271697192809082 Accuaracy 98.72830280719091\n",
      "Costo:  0.002539945828491777 Accuaracy 99.74600541715081\n",
      "Costo:  0.0014670921006844826 Accuaracy 99.85329078993155\n",
      "Costo:  0.0010551126549955456 Accuaracy 99.89448873450044\n",
      "Costo:  0.0008436078259482415 Accuaracy 99.91563921740517\n",
      "Costo:  0.0007141768478191749 Accuaracy 99.92858231521808\n",
      "Costo:  0.0006261066123256656 Accuaracy 99.93738933876743\n"
     ]
    }
   ],
   "source": [
    "h_neur = 4\n",
    "n_iteraciones =20000\n",
    "cache, epoch = NN(Y, X, h_neur, n_iteraciones, lr = 7, train = True)"
   ]
  },
  {
   "cell_type": "code",
   "execution_count": 24,
   "metadata": {
    "scrolled": true
   },
   "outputs": [
    {
     "data": {
      "text/plain": [
       "[<matplotlib.lines.Line2D at 0x16c1d558eb8>]"
      ]
     },
     "execution_count": 24,
     "metadata": {},
     "output_type": "execute_result"
    },
    {
     "data": {
      "image/png": "[encoded data removed]",
      "text/plain": [
       "<Figure size 432x288 with 1 Axes>"
      ]
     },
     "metadata": {
      "needs_background": "light"
     },
     "output_type": "display_data"
    }
   ],
   "source": [
    "plt.plot(epoch)"
   ]
  },
  {
   "cell_type": "markdown",
   "metadata": {},
   "source": [
    " predictions = $y_{prediction} = \\mathbb 1 \\text{{activation > 0.5}} = \\begin{cases} 1 & \\text{if}\\ activation > 0.5 \\\\ 0 & \\text{otherwise} \\end{cases}$"
   ]
  },
  {
   "cell_type": "code",
   "execution_count": 29,
   "metadata": {},
   "outputs": [
    {
     "data": {
      "text/plain": [
       "array([[0., 0., 0., ..., 0., 0., 0.]])"
      ]
     },
     "execution_count": 29,
     "metadata": {},
     "output_type": "execute_result"
    }
   ],
   "source": [
    "pred = np.round(cache['A2'])\n",
    "\n",
    "Y - pred"
   ]
  },
  {
   "cell_type": "code",
   "execution_count": 27,
   "metadata": {
    "scrolled": true
   },
   "outputs": [
    {
     "data": {
      "text/plain": [
       "array([[1, 0, 0, ..., 1, 1, 1]], dtype=int64)"
      ]
     },
     "execution_count": 27,
     "metadata": {},
     "output_type": "execute_result"
    }
   ],
   "source": [
    "Y"
   ]
  },
  {
   "cell_type": "code",
   "execution_count": null,
   "metadata": {},
   "outputs": [],
   "source": []
  }
 ],
 "metadata": {
  "kernelspec": {
   "display_name": "Python 3",
   "language": "python",
   "name": "python3"
  },
  "language_info": {
   "codemirror_mode": {
    "name": "ipython",
    "version": 3
   },
   "file_extension": ".py",
   "mimetype": "text/x-python",
   "name": "python",
   "nbconvert_exporter": "python",
   "pygments_lexer": "ipython3",
   "version": "3.7.3"
  }
 },
 "nbformat": 4,
 "nbformat_minor": 2
}
